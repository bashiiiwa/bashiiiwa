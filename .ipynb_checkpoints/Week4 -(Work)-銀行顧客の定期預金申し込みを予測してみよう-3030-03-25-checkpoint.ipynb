{
 "cells": [
  {
   "cell_type": "markdown",
   "metadata": {},
   "source": [
    "# Week4 - 銀行顧客の定期預金申し込みを予測してみよう! \n",
    "### CRISP-DMサイクルを回してみよう#1\n",
    "\n"
   ]
  },
  {
   "cell_type": "code",
   "execution_count": 1,
   "metadata": {},
   "outputs": [],
   "source": [
    "#!dir"
   ]
  },
  {
   "cell_type": "markdown",
   "metadata": {},
   "source": [
    "## 前回のおさらい\n",
    "![おさらい](./images/機械学習.png)"
   ]
  },
  {
   "cell_type": "markdown",
   "metadata": {},
   "source": [
    "## 学習の目標\n",
    "\n",
    "銀行顧客の定期預金申し込みを予測、活用する**CRISP-DMのサイクルを回してみる**。\n",
    "決定木モデルを作成し、予測結果を評価する\n",
    "ハイパーパラメータのチューニングをする（グリッドサーチの技法）方法を学ぶ\n",
    "予測結果を可視化し活用するダッシュボードを作ってみる\n"
   ]
  },
  {
   "cell_type": "markdown",
   "metadata": {},
   "source": [
    "## 本日の流れを確認します。\n",
    "\n",
    "#### **キーワード**\n",
    "- ダミー変数化\n",
    "- 決定木\n",
    "- ハイパーパラメータ\n",
    "- グリッドサーチ\n",
    "\n",
    "![week4overview](./images/week4-overview.jpg)"
   ]
  },
  {
   "cell_type": "markdown",
   "metadata": {},
   "source": [
    "## 1.データの理解\n",
    "bank-additional-full.csv に接続します。Tableau Desktopから接続し、どのような分類で申し込み＝Yが多いかあたりをつけましょう。\n"
   ]
  },
  {
   "cell_type": "markdown",
   "metadata": {},
   "source": [
    "![deta_list](./images/data_list.png)"
   ]
  },
  {
   "cell_type": "code",
   "execution_count": 2,
   "metadata": {},
   "outputs": [
    {
     "data": {
      "text/html": [
       "<div class='tableauPlaceholder' id='viz1580558060146' style='position: relative'><noscript><a href='#'><img alt=' ' src='https:&#47;&#47;public.tableau.com&#47;static&#47;images&#47;Z6&#47;Z6ZG6CZBX&#47;1_rss.png' style='border: none' /></a></noscript><object class='tableauViz'  style='display:none;'><param name='host_url' value='https%3A%2F%2Fpublic.tableau.com%2F' /> <param name='embed_code_version' value='3' /> <param name='path' value='shared&#47;Z6ZG6CZBX' /> <param name='toolbar' value='yes' /><param name='static_image' value='https:&#47;&#47;public.tableau.com&#47;static&#47;images&#47;Z6&#47;Z6ZG6CZBX&#47;1.png' /> <param name='animate_transition' value='yes' /><param name='display_static_image' value='yes' /><param name='display_spinner' value='yes' /><param name='display_overlay' value='yes' /><param name='display_count' value='yes' /><param name='filter' value='publish=yes' /></object></div>                <script type='text/javascript'>                    var divElement = document.getElementById('viz1580558060146');                    var vizElement = divElement.getElementsByTagName('object')[0];                    vizElement.style.width='100%';vizElement.style.height=(divElement.offsetWidth*0.75)+'px';                    var scriptElement = document.createElement('script');                    scriptElement.src = 'https://public.tableau.com/javascripts/api/viz_v1.js';                    vizElement.parentNode.insertBefore(scriptElement, vizElement);                </script>\n"
      ],
      "text/plain": [
       "<IPython.core.display.HTML object>"
      ]
     },
     "metadata": {},
     "output_type": "display_data"
    }
   ],
   "source": [
    "%%HTML\n",
    "<div class='tableauPlaceholder' id='viz1580558060146' style='position: relative'><noscript><a href='#'><img alt=' ' src='https:&#47;&#47;public.tableau.com&#47;static&#47;images&#47;Z6&#47;Z6ZG6CZBX&#47;1_rss.png' style='border: none' /></a></noscript><object class='tableauViz'  style='display:none;'><param name='host_url' value='https%3A%2F%2Fpublic.tableau.com%2F' /> <param name='embed_code_version' value='3' /> <param name='path' value='shared&#47;Z6ZG6CZBX' /> <param name='toolbar' value='yes' /><param name='static_image' value='https:&#47;&#47;public.tableau.com&#47;static&#47;images&#47;Z6&#47;Z6ZG6CZBX&#47;1.png' /> <param name='animate_transition' value='yes' /><param name='display_static_image' value='yes' /><param name='display_spinner' value='yes' /><param name='display_overlay' value='yes' /><param name='display_count' value='yes' /><param name='filter' value='publish=yes' /></object></div>                <script type='text/javascript'>                    var divElement = document.getElementById('viz1580558060146');                    var vizElement = divElement.getElementsByTagName('object')[0];                    vizElement.style.width='100%';vizElement.style.height=(divElement.offsetWidth*0.75)+'px';                    var scriptElement = document.createElement('script');                    scriptElement.src = 'https://public.tableau.com/javascripts/api/viz_v1.js';                    vizElement.parentNode.insertBefore(scriptElement, vizElement);                </script>"
   ]
  },
  {
   "cell_type": "markdown",
   "metadata": {},
   "source": [
    "## 2.予測モデルの作成とチューニング\n",
    "\n",
    "それでは、早速予測モデルを作成していきしょう。ここからはJupyter Notebookを利用します。\n",
    "今回は決定木をPythonのscikit-learnに含まれるDecisionTree Classifier（決定木モデル）を利用します。必要なライブラリを読み込みます。"
   ]
  },
  {
   "cell_type": "code",
   "execution_count": 1,
   "metadata": {},
   "outputs": [],
   "source": [
    "##import を実施します。\n",
    "\n",
    "import pandas as pd \n",
    "import numpy as np\n",
    "from sklearn.tree import DecisionTreeClassifier"
   ]
  },
  {
   "cell_type": "code",
   "execution_count": 2,
   "metadata": {},
   "outputs": [],
   "source": [
    "##初めの一回はpipでインストールが必要です。　決定木グラフの構造を書き出す際に利用します。\n",
    "\n",
    "##!pip install pydotplus"
   ]
  },
  {
   "cell_type": "markdown",
   "metadata": {},
   "source": [
    "先ほどの訓練データを学習して、モデルを作成します。まずは訓練データを読み込みます。"
   ]
  },
  {
   "cell_type": "code",
   "execution_count": 3,
   "metadata": {},
   "outputs": [],
   "source": [
    "##データを読み込みます。\n",
    "# df = pd.read_csv(\"bank-additional-full.csv\",delimiter=\";\")\n"
   ]
  },
  {
   "cell_type": "markdown",
   "metadata": {},
   "source": [
    "読み込んだデータを確認します。"
   ]
  },
  {
   "cell_type": "code",
   "execution_count": 4,
   "metadata": {},
   "outputs": [],
   "source": [
    "##データを確認します。\n",
    "#df.head()\n"
   ]
  },
  {
   "cell_type": "markdown",
   "metadata": {},
   "source": [
    "訓練データの行数と列数を確認します。"
   ]
  },
  {
   "cell_type": "code",
   "execution_count": 5,
   "metadata": {},
   "outputs": [],
   "source": [
    "#df.shape\n"
   ]
  },
  {
   "cell_type": "markdown",
   "metadata": {},
   "source": [
    "入力変数と出力変数をそれぞれ抜き出します。"
   ]
  },
  {
   "cell_type": "code",
   "execution_count": 6,
   "metadata": {},
   "outputs": [],
   "source": [
    "##目的変数を抜き出します。　ここは答えなしで実施しましょう。\n",
    "#t = \n",
    "\n",
    "##説明変数を抜き出します。\n",
    "#x = "
   ]
  },
  {
   "cell_type": "code",
   "execution_count": null,
   "metadata": {},
   "outputs": [],
   "source": []
  },
  {
   "cell_type": "markdown",
   "metadata": {},
   "source": [
    "### ダミー変数化\n",
    "カテゴリカルな（連続した数値ではなく、文字列を含む）データはそのままではモデル作成に利用できません！\n",
    "\n",
    "ですのでダミー変数化(カテゴリごとに1または0の値を持つフィールドに分割）します。\n",
    "![dummy](./images/dummy.png)"
   ]
  },
  {
   "cell_type": "code",
   "execution_count": 7,
   "metadata": {},
   "outputs": [],
   "source": [
    "##ダミー変数化をおこないます \n",
    "#xd = pd.get_dummies(x)\n",
    "\n"
   ]
  },
  {
   "cell_type": "markdown",
   "metadata": {},
   "source": [
    "内容を確認します。"
   ]
  },
  {
   "cell_type": "code",
   "execution_count": 8,
   "metadata": {},
   "outputs": [],
   "source": [
    "##内容を確認します。\n",
    "#xd.head()\n"
   ]
  },
  {
   "cell_type": "markdown",
   "metadata": {},
   "source": [
    "### 訓練データと検証データの分割\n",
    "訓練データと検証データに分割します。ここでは、test_size=0.1 として全体の1割を検証データに利用します。"
   ]
  },
  {
   "cell_type": "code",
   "execution_count": 17,
   "metadata": {},
   "outputs": [],
   "source": [
    "## 訓練データと検証データに分割します。   \n",
    "from sklearn.model_selection import train_test_split\n",
    "x_train, x_val, t_train, t_val = train_test_split(xd, t, test_size=0.1, random_state=1)"
   ]
  },
  {
   "cell_type": "code",
   "execution_count": 9,
   "metadata": {},
   "outputs": [],
   "source": [
    "##訓練データの行数を確認します。\n",
    "#len(x_train)"
   ]
  },
  {
   "cell_type": "code",
   "execution_count": 10,
   "metadata": {},
   "outputs": [],
   "source": [
    "##検証データの行数を確認します。\n",
    "#len(x_val)"
   ]
  },
  {
   "cell_type": "code",
   "execution_count": 11,
   "metadata": {},
   "outputs": [],
   "source": [
    "#t_val.head()"
   ]
  },
  {
   "cell_type": "markdown",
   "metadata": {},
   "source": [
    "### モデルの作成と学習 max_depth=3\n",
    "\n",
    "決定木モデルの作成時に、ハイパーパラメータを設定することができます、ここではmax_depth=3、min_samples_leaf=500 を設定します。続けて、訓練データをモデルに代入し学習（fit）させます。"
   ]
  },
  {
   "cell_type": "code",
   "execution_count": 23,
   "metadata": {},
   "outputs": [],
   "source": [
    "## max_depth =3 でモデルの作成\n",
    "# clf3 = DecisionTreeClassifier(max_depth=3,min_samples_leaf=500)\n"
   ]
  },
  {
   "cell_type": "code",
   "execution_count": 24,
   "metadata": {},
   "outputs": [
    {
     "data": {
      "text/plain": [
       "DecisionTreeClassifier(class_weight=None, criterion='gini', max_depth=3,\n",
       "                       max_features=None, max_leaf_nodes=None,\n",
       "                       min_impurity_decrease=0.0, min_impurity_split=None,\n",
       "                       min_samples_leaf=500, min_samples_split=2,\n",
       "                       min_weight_fraction_leaf=0.0, presort=False,\n",
       "                       random_state=None, splitter='best')"
      ]
     },
     "execution_count": 24,
     "metadata": {},
     "output_type": "execute_result"
    }
   ],
   "source": [
    "## 訓練データをモデルに代入し学習（fit）させます。\n",
    "#clf3.fit(x_train,t_train)"
   ]
  },
  {
   "cell_type": "markdown",
   "metadata": {},
   "source": [
    "学習させたモデルを 「Web Graphviz 」ツールにて可視化します。\n",
    "※　Jupyter Notebook内に決定木モデルの可視化を表示する場合は、「Tableauで始めるデータサイエンス巻末、補足資料「graphvizツール導入手順」を参照ください。\n"
   ]
  },
  {
   "cell_type": "code",
   "execution_count": 26,
   "metadata": {},
   "outputs": [],
   "source": [
    "## max_depth =3 で決定木モデルのグラフ化\n",
    "from sklearn.tree import export_graphviz\n",
    "import pydotplus\n",
    "from IPython.display import Image\n",
    "\n",
    "export_graphviz(clf3, out_file=\"tree_clf3.dot\", feature_names=xd.columns, class_names=[\"0\",\"1\"], filled=True, rounded=True)\n",
    "g = pydotplus.graph_from_dot_file(path=\"tree_clf3.dot\")\n",
    "\n",
    "## GraphvizをインストールしてJupyterNotebook内に決定木グラフを表示する場合以下を実行します。\n",
    "## Image(g.create_png())"
   ]
  },
  {
   "cell_type": "markdown",
   "metadata": {},
   "source": [
    "### 決定木グラフの可視化手順\n",
    "① Jupyter notebook を起動したディレクトリに \"tree_clf3.dot\" ファイルがあることを確認します。\n",
    "\n",
    "② notepad等のエディタから①を開きます。\n",
    "\n",
    "③ Ctrl+A ですべて選択しコピーします。\n",
    "\n",
    "④ http://www.webgraphviz.com/　を開きます。\n",
    "\n",
    "⑤コードを④にコピーし、Generate Graph!　をクリックします。\n",
    "\n",
    "![clf3](./images/webgraphviz.png)"
   ]
  },
  {
   "cell_type": "markdown",
   "metadata": {},
   "source": [
    "グラフの読み方としては、青色の濃い部分は目的変数である、「定額預金の申し込みが有（yes) 」が多い分類、逆にオレンジ色は少ない分類になっているということになります。青色が濃いところに注目すると、duration <=172.5 ではない（つまり duration > 172.5) かつ pdays <= 513.0 の区分の青色が濃いです。つまり、duration > 172.5　かつ　pdpoutcome_success>0.5 である場合に、申し込みが有る可能性が高いということになります。前回キャンペーンに成功していて、コンタクト（会話）時間が172.5秒以上の場合申し込みをする可能性が高いという事ですね。\n",
    "\n",
    "MEMO: 「偏り」や「不均等さ」を数値で表したものが「ジニ係数」です。ジニ係数は0から1までの値をとり、1に近いほど偏りが大きく、0に近いほど偏りが小さいことを表します。"
   ]
  },
  {
   "cell_type": "markdown",
   "metadata": {},
   "source": [
    "訓練データと検証データで精度を確認します。"
   ]
  },
  {
   "cell_type": "code",
   "execution_count": 12,
   "metadata": {},
   "outputs": [],
   "source": [
    "## 訓練データでの精度 = 何個中何個当たっていたか？(Accuracy）を確認します。\n",
    "#clf3.score(x_train, t_train) "
   ]
  },
  {
   "cell_type": "code",
   "execution_count": 13,
   "metadata": {},
   "outputs": [],
   "source": [
    "## 検証データでの精度 = 何個中何個当たっていたか？(Accuracy）を確認します。\n",
    "#clf3.score(x_val, t_val)"
   ]
  },
  {
   "cell_type": "markdown",
   "metadata": {},
   "source": [
    "\n",
    "\n",
    "\n"
   ]
  },
  {
   "cell_type": "markdown",
   "metadata": {},
   "source": [
    "訓練データと検証データそれぞれでモデルの精度（正解のレコード数 / 全体のレコード数）のスコアを確認します。訓練データ＝90.99%、検証データ＝90.28%となりました。"
   ]
  },
  {
   "cell_type": "markdown",
   "metadata": {},
   "source": [
    "## 予測モデルのチューニングを実施"
   ]
  },
  {
   "cell_type": "markdown",
   "metadata": {},
   "source": [
    "### モデルの作成と学習 max_depth=6\n",
    "次にパラメータをチューニングして、モデルの精度が変化するかどうかを確認します。max_depth=6 に増やしてモデルを作成してみましょう。\n",
    "ちなみに他にどのようなパラメータがあるのかについては、Notebookで「DecisionTreeClassifier」にカーソルを置いて「Shift+Tab」、＋ボタンを押して表示を拡張します。"
   ]
  },
  {
   "cell_type": "code",
   "execution_count": 30,
   "metadata": {},
   "outputs": [],
   "source": [
    "## max_depth =6 でモデルの作成\n",
    "# clf6 = DecisionTreeClassifier(max_depth=6 , min_samples_leaf=500)\n"
   ]
  },
  {
   "cell_type": "code",
   "execution_count": 14,
   "metadata": {},
   "outputs": [],
   "source": [
    "## 訓練データをモデルに代入し学習（fit）させます。\n",
    "# clf6.fit(x_train,t_train)"
   ]
  },
  {
   "cell_type": "code",
   "execution_count": 32,
   "metadata": {
    "scrolled": true
   },
   "outputs": [],
   "source": [
    "from sklearn.tree import export_graphviz\n",
    "import pydotplus\n",
    "from IPython.display import Image\n",
    "export_graphviz(clf6, out_file=\"tree_clf6.dot\", feature_names=xd.columns, class_names=[\"0\",\"1\"], filled=True, rounded=True)\n",
    "g = pydotplus.graph_from_dot_file(path=\"tree_clf6.dot\")\n",
    "\n",
    "##Image(g.create_png())"
   ]
  },
  {
   "cell_type": "markdown",
   "metadata": {},
   "source": [
    "maxdepth=3 の時と同様にWebGraphvizを使って maxdepth=6 での決定木グラフを書いてみましょう。\n",
    "![clf6](./images/clf6.png)\n"
   ]
  },
  {
   "cell_type": "code",
   "execution_count": 15,
   "metadata": {},
   "outputs": [],
   "source": [
    "## 訓練データでの精度 = 何個中何個当たっていたか？(Accuracy）を確認します。\n",
    "#clf6.score(x_train, t_train)  "
   ]
  },
  {
   "cell_type": "code",
   "execution_count": 16,
   "metadata": {},
   "outputs": [],
   "source": [
    "## 検証データでの精度 = 何個中何個当たっていたか？(Accuracy）を確認します。\n",
    "#clf6.score(x_val, t_val)  # Accuracy: 精度 = 何個中何個当たっていたか？"
   ]
  },
  {
   "cell_type": "markdown",
   "metadata": {},
   "source": [
    "### モデルの作成と学習 max_depth=12"
   ]
  },
  {
   "cell_type": "code",
   "execution_count": 35,
   "metadata": {},
   "outputs": [
    {
     "data": {
      "text/plain": [
       "DecisionTreeClassifier(class_weight=None, criterion='gini', max_depth=12,\n",
       "                       max_features=None, max_leaf_nodes=None,\n",
       "                       min_impurity_decrease=0.0, min_impurity_split=None,\n",
       "                       min_samples_leaf=500, min_samples_split=2,\n",
       "                       min_weight_fraction_leaf=0.0, presort=False,\n",
       "                       random_state=None, splitter='best')"
      ]
     },
     "execution_count": 35,
     "metadata": {},
     "output_type": "execute_result"
    }
   ],
   "source": [
    "##モデルの作成\n",
    "clf12 = DecisionTreeClassifier(max_depth=12 , min_samples_leaf=500)\n",
    "clf12.fit(x_train,t_train)"
   ]
  },
  {
   "cell_type": "code",
   "execution_count": 36,
   "metadata": {},
   "outputs": [],
   "source": [
    "from sklearn.tree import export_graphviz\n",
    "import pydotplus\n",
    "from IPython.display import Image\n",
    "export_graphviz(clf12, out_file=\"tree_clf12.dot\", feature_names=xd.columns, class_names=[\"0\",\"1\"], filled=True, rounded=True)\n",
    "g = pydotplus.graph_from_dot_file(path=\"tree_clf12.dot\")\n",
    "##Image(g.create_png())"
   ]
  },
  {
   "cell_type": "markdown",
   "metadata": {},
   "source": [
    "maxdepth=3 の時と同様にWebGraphvizを使って maxdepth=12 での決定木グラフを書いてみましょう。\n",
    "![clf6](./images/clf12.png)"
   ]
  },
  {
   "cell_type": "code",
   "execution_count": 17,
   "metadata": {},
   "outputs": [],
   "source": [
    "## 訓練データでの精度 = 何個中何個当たっていたか？(Accuracy）を確認します。\n",
    "#clf12.score(x_train, t_train)  # Accuracy: 精度 = 何個中何個当たっていたか？"
   ]
  },
  {
   "cell_type": "code",
   "execution_count": 18,
   "metadata": {},
   "outputs": [],
   "source": [
    "## 検証データでの精度 = 何個中何個当たっていたか？(Accuracy）を確認します。\n",
    "#clf12.score(x_val, t_val)  # Accuracy: 精度 = 何個中何個当たっていたか？"
   ]
  },
  {
   "cell_type": "markdown",
   "metadata": {},
   "source": [
    "### クロスバリデーションとは？\n",
    "\n",
    "今までの学習法では、検証データは学習に利用していませんでした、これってもったいなくないですか？\n",
    "更に、たまたま、学習に使ったデータが偏っていたらどうでしょうか？少し不安ですね。\n",
    "\n",
    "ここで、クロスバリデーションの登場です。K-分割交差検証（K-fold cross-validation）とも言います。\n",
    "\n",
    "　K- 分割交差検証とは、今までのようにある1つの訓練データ、検証データに対し\n",
    "学習から評価までを行うのではなく、 K個のデータに分割後、 1個の検証データとK-1個の訓練データに対し、K 回検証を行う方法になります。\n",
    "\n",
    "　 K=5の場合を考えてみましょう。まず5 個のデータに分割し、そのうちの1つのデータを検証データ、残り4つのデータを訓練データにして学習から評価までを行います。\n",
    "これが図①にあたります。次に、①で検証データに使用しなかったデータ\n",
    "の内の1つを検証データ、残りを訓練データに使用し、学習から評価までを行います\n",
    "（②）。この流れを、全ての分割データを検証データに使用するまで繰り返します。つまり、今回の場合は5 回繰り返すことになります。最終的に全ての検証スコアを合わせて評価します。\n",
    "\n",
    "[参考](https://qiita.com/LicaOka/items/c6725aa8961df9332cc7 \"比較的少なめのデータで機械学習する時は交差検証 (Cross Validation) をするのです\")\n",
    "![交差検証](./images/交差検証.png)"
   ]
  },
  {
   "cell_type": "markdown",
   "metadata": {},
   "source": [
    "### 最適なハイパーパラメータの調整（Grid Searchの利用）"
   ]
  },
  {
   "cell_type": "markdown",
   "metadata": {},
   "source": [
    "ここまでmax_depthの大きさを3、6、12と変更して確認を行いましたが、他の値ではどうだろう？その他のパラメータを変更した場合はどうなるだろう・・・一体どのパラメータの組み合わせが最適なのだろうと疑問を持ちますね。\n",
    "\n",
    "しかし、パラメータの組み合わせは膨大にあり一つ一つ確認するのは気の遠くなる作業となります。\n",
    "\n",
    "そこで、**「グリッドサーチ」** という方法が役立ちます。\n",
    "\n",
    "「グリッドサーチ」では検証したいパラメータのリストを指定し、総当たりの組み合わせでモデルの精度を検証し、最も当てはまりの良い組み合わせを「best parameter」として提示してくれます。\n",
    "\n",
    "更に内部で前述の**クロスバリデーション**もやってくれます。\n",
    "![GridSearch](./images/gridsearch.png)\n",
    "\n",
    "早速やってみましょう。\n",
    "\n",
    "ここでは検証の対象となるパラメータを\n",
    "max_depth を [1, 2, 3, 4, 5, 6, 7, 8, 9, 10]と\n",
    "min_sample_leaf を[100,200,500,1000]と指定します。"
   ]
  },
  {
   "cell_type": "markdown",
   "metadata": {},
   "source": [
    "sklearnの中のmodel_selectionからGridSearchCVをimportしましょう。"
   ]
  },
  {
   "cell_type": "code",
   "execution_count": 39,
   "metadata": {},
   "outputs": [],
   "source": [
    "## モジュールのインポート\n",
    "from sklearn.model_selection import GridSearchCV"
   ]
  },
  {
   "cell_type": "markdown",
   "metadata": {},
   "source": [
    "Grid SearchCVを用いる際には、下記3つを用意する必要があります。\n",
    "\n",
    " - estimator：使用する手法\n",
    " - param_grid：ハイパーパラメータの探索範囲\n",
    " - cv：データの分割数"
   ]
  },
  {
   "cell_type": "code",
   "execution_count": 19,
   "metadata": {},
   "outputs": [],
   "source": [
    "## DecisionTreeClasifirerを使用\n",
    "# estimator = DecisionTreeClassifier()\n"
   ]
  },
  {
   "cell_type": "markdown",
   "metadata": {},
   "source": [
    "#### 決定木のハイパーパラーメータ\n",
    "\n",
    "決定木の主要なハイパーパラーメータとしては以下があります。\n",
    "\n",
    "- max_depth\t決定木の深さの最大、過学習を抑止する効果がある\n",
    "- min_samples_leaf　1つのノードに必要な最小のサンプル数\n",
    "\n",
    "※　詳細についてはsklearnの説明ページを参照ください。\n",
    "https://scikit-learn.org/stable/modules/generated/sklearn.tree.DecisionTreeClassifier.html\n",
    "\n",
    "上記2つのハイパーパラーメータの探索範囲として以下のよう値を選択します。\n",
    "各ハイパーパラーメータを辞書の**キー**として扱い、辞書の**値**に探索範囲をリスト形式で入れます。"
   ]
  },
  {
   "cell_type": "code",
   "execution_count": 41,
   "metadata": {},
   "outputs": [],
   "source": [
    "## チューニングするパラメータ\n",
    "param_grid = {'max_depth':  [1, 2, 3, 4, 5, 6, 7, 8, 9, 10],\n",
    "                    'min_samples_leaf': [100,200,500,1000]\n",
    "                   }"
   ]
  },
  {
   "cell_type": "markdown",
   "metadata": {},
   "source": [
    "クロスバリデーションを5分割しましょう。"
   ]
  },
  {
   "cell_type": "code",
   "execution_count": 45,
   "metadata": {},
   "outputs": [],
   "source": [
    "#cv = 5\n",
    "cv = 5 "
   ]
  },
  {
   "cell_type": "markdown",
   "metadata": {},
   "source": [
    "`GridSearchCV`を用いると、 `train` と `validation` は自動的に分割されます。 "
   ]
  },
  {
   "cell_type": "markdown",
   "metadata": {},
   "source": [
    "準備した各値を`GridSearchCV`に入れます。"
   ]
  },
  {
   "cell_type": "code",
   "execution_count": 20,
   "metadata": {},
   "outputs": [],
   "source": [
    "## モデルの定義\n",
    "# tuned_model = GridSearchCV(estimator=estimator, param_grid=param_grid, cv=cv, return_train_score=False)\n",
    "\n"
   ]
  },
  {
   "cell_type": "markdown",
   "metadata": {},
   "source": [
    "通常通り、`fit()`で学習させましょう。 **少し時間がかかります。少々お待ちください。**"
   ]
  },
  {
   "cell_type": "code",
   "execution_count": 21,
   "metadata": {
    "scrolled": true
   },
   "outputs": [],
   "source": [
    "## モデルの学習 ※少し時間がかかります。少々お待ちください。\n",
    "# tuned_model.fit(x_train, t_train)\n"
   ]
  },
  {
   "cell_type": "markdown",
   "metadata": {},
   "source": [
    "学習後、tuned_modelの中のcv_results_にクロスバリデーションを行った結果が入っていますので、pandasを用いて表形式で表示させてみましょう。"
   ]
  },
  {
   "cell_type": "code",
   "execution_count": 22,
   "metadata": {},
   "outputs": [],
   "source": [
    "## モデルの検証結果をデータフレームにします。\n",
    "#df_cv = pd.DataFrame(tuned_model.cv_results_)\n",
    "## 見にくいので行列転置します。\n",
    "#df_cv.T"
   ]
  },
  {
   "cell_type": "code",
   "execution_count": 23,
   "metadata": {},
   "outputs": [],
   "source": [
    "##データフレームにはquery()メソッドが用意されていているので、スコアランクが高いものにフィルタします。\n",
    "#df_cv.query('rank_test_score <= 10').T"
   ]
  },
  {
   "cell_type": "markdown",
   "metadata": {},
   "source": [
    "実際に表を見なくても`best_params_`という値に最適なハイパーパラーメータが入っているので確認しましょう。"
   ]
  },
  {
   "cell_type": "code",
   "execution_count": 24,
   "metadata": {},
   "outputs": [],
   "source": [
    "## 最適なハイパーパラメータの確認\n",
    "#tuned_model.best_params_"
   ]
  },
  {
   "cell_type": "markdown",
   "metadata": {},
   "source": [
    "`best_estimator_`には最適なハイパーパラーメータを使用した最適なモデルが入っています。最後に、こちらを用いてテストデータの結果も確認しましょう。"
   ]
  },
  {
   "cell_type": "code",
   "execution_count": 25,
   "metadata": {},
   "outputs": [],
   "source": [
    "## 最適なモデルの引き継ぎ\n",
    "#clf_best = tuned_model.best_estimator_"
   ]
  },
  {
   "cell_type": "code",
   "execution_count": 26,
   "metadata": {},
   "outputs": [],
   "source": [
    "## モデルの内容を確認します。\n",
    "#clf_best"
   ]
  },
  {
   "cell_type": "markdown",
   "metadata": {},
   "source": [
    "モデルのテストを行います。まずはモデル作成に利用したtain_val(訓練と検証）について"
   ]
  },
  {
   "cell_type": "code",
   "execution_count": 27,
   "metadata": {},
   "outputs": [],
   "source": [
    "## モデルのテスト \n",
    "#print(clf_best.score(x_train, t_train))\n"
   ]
  },
  {
   "cell_type": "markdown",
   "metadata": {},
   "source": [
    "モデルのテストを行います。次にモデル作成に利用しなかったtest(テスト）について"
   ]
  },
  {
   "cell_type": "code",
   "execution_count": 28,
   "metadata": {},
   "outputs": [],
   "source": [
    "#print(clf_best.score(x_val, t_val))"
   ]
  },
  {
   "cell_type": "markdown",
   "metadata": {},
   "source": [
    "訓練＋検証、テスト共に良い結果が得られているようです。チューニングされた決定木も可視化してみましょう。"
   ]
  },
  {
   "cell_type": "code",
   "execution_count": 54,
   "metadata": {},
   "outputs": [],
   "source": [
    "## clf_bestを利用した決定木グラフの作成\n",
    "\n",
    "from sklearn.tree import export_graphviz\n",
    "import pydotplus\n",
    "from IPython.display import Image\n",
    "export_graphviz(clf_best, out_file=\"tree_clf_best.dot\", feature_names=xd.columns, class_names=[\"0\",\"1\"], filled=True, rounded=True)\n",
    "g = pydotplus.graph_from_dot_file(path=\"tree_clf_best.dot\")\n",
    "## Image(g.create_png())"
   ]
  },
  {
   "cell_type": "markdown",
   "metadata": {},
   "source": [
    "maxdepth=3 の時と同様にWebGraphvizを使って clf_best での決定木グラフを書いてみましょう。\n",
    "![clf_best](./images/clf_best.png)"
   ]
  },
  {
   "cell_type": "markdown",
   "metadata": {},
   "source": [
    "それぞれのモデルについてtrainとvalのスコアを比較します。\n",
    "→　Dropbox掲示板に書き込んでください。\n",
    "\n"
   ]
  },
  {
   "cell_type": "markdown",
   "metadata": {},
   "source": [
    "### (補足) Tableau で予測モデルの精度を可視化してみる　\n",
    "次に全てのデータに対してそれぞれのモデルを利用した「定期預金を申し込む確率」を算出し、Tableau を使って可視化をしながら予測モデルの評価を行ってみましょう。\n"
   ]
  },
  {
   "cell_type": "code",
   "execution_count": 56,
   "metadata": {},
   "outputs": [
    {
     "data": {
      "text/html": [
       "<div>\n",
       "<style scoped>\n",
       "    .dataframe tbody tr th:only-of-type {\n",
       "        vertical-align: middle;\n",
       "    }\n",
       "\n",
       "    .dataframe tbody tr th {\n",
       "        vertical-align: top;\n",
       "    }\n",
       "\n",
       "    .dataframe thead th {\n",
       "        text-align: right;\n",
       "    }\n",
       "</style>\n",
       "<table border=\"1\" class=\"dataframe\">\n",
       "  <thead>\n",
       "    <tr style=\"text-align: right;\">\n",
       "      <th></th>\n",
       "      <th>age</th>\n",
       "      <th>duration</th>\n",
       "      <th>campaign</th>\n",
       "      <th>pdays</th>\n",
       "      <th>previous</th>\n",
       "      <th>emp.var.rate</th>\n",
       "      <th>cons.price.idx</th>\n",
       "      <th>cons.conf.idx</th>\n",
       "      <th>euribor3m</th>\n",
       "      <th>nr.employed</th>\n",
       "      <th>...</th>\n",
       "      <th>month_oct</th>\n",
       "      <th>month_sep</th>\n",
       "      <th>day_of_week_fri</th>\n",
       "      <th>day_of_week_mon</th>\n",
       "      <th>day_of_week_thu</th>\n",
       "      <th>day_of_week_tue</th>\n",
       "      <th>day_of_week_wed</th>\n",
       "      <th>poutcome_failure</th>\n",
       "      <th>poutcome_nonexistent</th>\n",
       "      <th>poutcome_success</th>\n",
       "    </tr>\n",
       "  </thead>\n",
       "  <tbody>\n",
       "    <tr>\n",
       "      <td>35577</td>\n",
       "      <td>32</td>\n",
       "      <td>114</td>\n",
       "      <td>1</td>\n",
       "      <td>999</td>\n",
       "      <td>0</td>\n",
       "      <td>-1.8</td>\n",
       "      <td>92.893</td>\n",
       "      <td>-46.2</td>\n",
       "      <td>1.244</td>\n",
       "      <td>5099.1</td>\n",
       "      <td>...</td>\n",
       "      <td>0</td>\n",
       "      <td>0</td>\n",
       "      <td>0</td>\n",
       "      <td>1</td>\n",
       "      <td>0</td>\n",
       "      <td>0</td>\n",
       "      <td>0</td>\n",
       "      <td>0</td>\n",
       "      <td>1</td>\n",
       "      <td>0</td>\n",
       "    </tr>\n",
       "    <tr>\n",
       "      <td>13950</td>\n",
       "      <td>33</td>\n",
       "      <td>103</td>\n",
       "      <td>2</td>\n",
       "      <td>999</td>\n",
       "      <td>0</td>\n",
       "      <td>1.4</td>\n",
       "      <td>93.918</td>\n",
       "      <td>-42.7</td>\n",
       "      <td>4.963</td>\n",
       "      <td>5228.1</td>\n",
       "      <td>...</td>\n",
       "      <td>0</td>\n",
       "      <td>0</td>\n",
       "      <td>1</td>\n",
       "      <td>0</td>\n",
       "      <td>0</td>\n",
       "      <td>0</td>\n",
       "      <td>0</td>\n",
       "      <td>0</td>\n",
       "      <td>1</td>\n",
       "      <td>0</td>\n",
       "    </tr>\n",
       "    <tr>\n",
       "      <td>29451</td>\n",
       "      <td>25</td>\n",
       "      <td>227</td>\n",
       "      <td>5</td>\n",
       "      <td>999</td>\n",
       "      <td>0</td>\n",
       "      <td>-1.8</td>\n",
       "      <td>93.075</td>\n",
       "      <td>-47.1</td>\n",
       "      <td>1.405</td>\n",
       "      <td>5099.1</td>\n",
       "      <td>...</td>\n",
       "      <td>0</td>\n",
       "      <td>0</td>\n",
       "      <td>0</td>\n",
       "      <td>1</td>\n",
       "      <td>0</td>\n",
       "      <td>0</td>\n",
       "      <td>0</td>\n",
       "      <td>0</td>\n",
       "      <td>1</td>\n",
       "      <td>0</td>\n",
       "    </tr>\n",
       "    <tr>\n",
       "      <td>32295</td>\n",
       "      <td>34</td>\n",
       "      <td>56</td>\n",
       "      <td>1</td>\n",
       "      <td>999</td>\n",
       "      <td>0</td>\n",
       "      <td>-1.8</td>\n",
       "      <td>92.893</td>\n",
       "      <td>-46.2</td>\n",
       "      <td>1.313</td>\n",
       "      <td>5099.1</td>\n",
       "      <td>...</td>\n",
       "      <td>0</td>\n",
       "      <td>0</td>\n",
       "      <td>1</td>\n",
       "      <td>0</td>\n",
       "      <td>0</td>\n",
       "      <td>0</td>\n",
       "      <td>0</td>\n",
       "      <td>0</td>\n",
       "      <td>1</td>\n",
       "      <td>0</td>\n",
       "    </tr>\n",
       "    <tr>\n",
       "      <td>27477</td>\n",
       "      <td>53</td>\n",
       "      <td>11</td>\n",
       "      <td>7</td>\n",
       "      <td>999</td>\n",
       "      <td>0</td>\n",
       "      <td>-0.1</td>\n",
       "      <td>93.200</td>\n",
       "      <td>-42.0</td>\n",
       "      <td>4.021</td>\n",
       "      <td>5195.8</td>\n",
       "      <td>...</td>\n",
       "      <td>0</td>\n",
       "      <td>0</td>\n",
       "      <td>1</td>\n",
       "      <td>0</td>\n",
       "      <td>0</td>\n",
       "      <td>0</td>\n",
       "      <td>0</td>\n",
       "      <td>0</td>\n",
       "      <td>1</td>\n",
       "      <td>0</td>\n",
       "    </tr>\n",
       "  </tbody>\n",
       "</table>\n",
       "<p>5 rows × 63 columns</p>\n",
       "</div>"
      ],
      "text/plain": [
       "       age  duration  campaign  pdays  previous  emp.var.rate  cons.price.idx  \\\n",
       "35577   32       114         1    999         0          -1.8          92.893   \n",
       "13950   33       103         2    999         0           1.4          93.918   \n",
       "29451   25       227         5    999         0          -1.8          93.075   \n",
       "32295   34        56         1    999         0          -1.8          92.893   \n",
       "27477   53        11         7    999         0          -0.1          93.200   \n",
       "\n",
       "       cons.conf.idx  euribor3m  nr.employed  ...  month_oct  month_sep  \\\n",
       "35577          -46.2      1.244       5099.1  ...          0          0   \n",
       "13950          -42.7      4.963       5228.1  ...          0          0   \n",
       "29451          -47.1      1.405       5099.1  ...          0          0   \n",
       "32295          -46.2      1.313       5099.1  ...          0          0   \n",
       "27477          -42.0      4.021       5195.8  ...          0          0   \n",
       "\n",
       "       day_of_week_fri  day_of_week_mon  day_of_week_thu  day_of_week_tue  \\\n",
       "35577                0                1                0                0   \n",
       "13950                1                0                0                0   \n",
       "29451                0                1                0                0   \n",
       "32295                1                0                0                0   \n",
       "27477                1                0                0                0   \n",
       "\n",
       "       day_of_week_wed  poutcome_failure  poutcome_nonexistent  \\\n",
       "35577                0                 0                     1   \n",
       "13950                0                 0                     1   \n",
       "29451                0                 0                     1   \n",
       "32295                0                 0                     1   \n",
       "27477                0                 0                     1   \n",
       "\n",
       "       poutcome_success  \n",
       "35577                 0  \n",
       "13950                 0  \n",
       "29451                 0  \n",
       "32295                 0  \n",
       "27477                 0  \n",
       "\n",
       "[5 rows x 63 columns]"
      ]
     },
     "execution_count": 56,
     "metadata": {},
     "output_type": "execute_result"
    }
   ],
   "source": [
    "## 検証valデータの入力変数（説明変数）を確認する\n",
    "x_val.head() "
   ]
  },
  {
   "cell_type": "markdown",
   "metadata": {},
   "source": [
    "それぞれのモデル（max_depth = 3,4,6) についてpredict  メソッドを用いて予測確率を求めます。"
   ]
  },
  {
   "cell_type": "code",
   "execution_count": 57,
   "metadata": {},
   "outputs": [],
   "source": [
    "## 予測値を得ます。\n",
    "\n",
    "y_clf3 = clf3.predict_proba(x_val)[:,1]\n",
    "y_clf6 = clf6.predict_proba(x_val)[:,1]\n",
    "y_clf_best =clf_best.predict_proba(x_val)[:,1]\n"
   ]
  },
  {
   "cell_type": "markdown",
   "metadata": {},
   "source": [
    "結果をデータフレーム化して、オリジナルの検証データの右端にconcat で横に繫げます。"
   ]
  },
  {
   "cell_type": "code",
   "execution_count": 58,
   "metadata": {},
   "outputs": [],
   "source": [
    "## DataFrame 化します。\n",
    "\n",
    "df_y_clf3 = pd.DataFrame(y_clf3,columns=['y_clf3'])\n",
    "df_y_clf6 = pd.DataFrame(y_clf6,columns=['y_clf6'])\n",
    "df_y_clf_best = pd.DataFrame(y_clf_best,columns=['y_clf_best'])"
   ]
  },
  {
   "cell_type": "code",
   "execution_count": 59,
   "metadata": {},
   "outputs": [
    {
     "data": {
      "text/html": [
       "<div>\n",
       "<style scoped>\n",
       "    .dataframe tbody tr th:only-of-type {\n",
       "        vertical-align: middle;\n",
       "    }\n",
       "\n",
       "    .dataframe tbody tr th {\n",
       "        vertical-align: top;\n",
       "    }\n",
       "\n",
       "    .dataframe thead th {\n",
       "        text-align: right;\n",
       "    }\n",
       "</style>\n",
       "<table border=\"1\" class=\"dataframe\">\n",
       "  <thead>\n",
       "    <tr style=\"text-align: right;\">\n",
       "      <th></th>\n",
       "      <th>y_clf3</th>\n",
       "    </tr>\n",
       "  </thead>\n",
       "  <tbody>\n",
       "    <tr>\n",
       "      <td>0</td>\n",
       "      <td>0.015390</td>\n",
       "    </tr>\n",
       "    <tr>\n",
       "      <td>1</td>\n",
       "      <td>0.015390</td>\n",
       "    </tr>\n",
       "    <tr>\n",
       "      <td>2</td>\n",
       "      <td>0.172806</td>\n",
       "    </tr>\n",
       "    <tr>\n",
       "      <td>3</td>\n",
       "      <td>0.015390</td>\n",
       "    </tr>\n",
       "    <tr>\n",
       "      <td>4</td>\n",
       "      <td>0.015390</td>\n",
       "    </tr>\n",
       "  </tbody>\n",
       "</table>\n",
       "</div>"
      ],
      "text/plain": [
       "     y_clf3\n",
       "0  0.015390\n",
       "1  0.015390\n",
       "2  0.172806\n",
       "3  0.015390\n",
       "4  0.015390"
      ]
     },
     "execution_count": 59,
     "metadata": {},
     "output_type": "execute_result"
    }
   ],
   "source": [
    "## 予測値が入っていることを確認します。\n",
    "df_y_clf3.head()"
   ]
  },
  {
   "cell_type": "code",
   "execution_count": 60,
   "metadata": {},
   "outputs": [
    {
     "data": {
      "text/plain": [
       "35577     no\n",
       "13950     no\n",
       "29451    yes\n",
       "32295     no\n",
       "27477     no\n",
       "Name: y, dtype: object"
      ]
     },
     "execution_count": 60,
     "metadata": {},
     "output_type": "execute_result"
    }
   ],
   "source": [
    "## 目的変数は yes / no で入っています。\n",
    "t_val.head()"
   ]
  },
  {
   "cell_type": "code",
   "execution_count": 61,
   "metadata": {},
   "outputs": [
    {
     "data": {
      "text/plain": [
       "35577    0\n",
       "13950    0\n",
       "29451    1\n",
       "32295    0\n",
       "27477    0\n",
       "Name: y, dtype: int64"
      ]
     },
     "execution_count": 61,
     "metadata": {},
     "output_type": "execute_result"
    }
   ],
   "source": [
    "## 後々のために　\"y\"列を\"0\"と\"1\"で置き換えます。\n",
    "t_val01  = t_val.map(dict(yes=1, no=0))\n",
    "t_val01.head()\n"
   ]
  },
  {
   "cell_type": "markdown",
   "metadata": {},
   "source": [
    "結果をデータフレーム化して、オリジナルの訓練データの右端にconcat で横に繫げます。ここはやや強引ですが、Tableau で確認するときダミー化されているとむしろ見にくいので、ダミー化される前の検証用の説明変数を取り出します。\n"
   ]
  },
  {
   "cell_type": "code",
   "execution_count": 62,
   "metadata": {},
   "outputs": [],
   "source": [
    "## 訓練データと検証データに分割します。   randam_stateを同じにすることで再現性を保ちます。\n",
    "from sklearn.model_selection import train_test_split\n",
    "x_train_raw, x_val_raw, t_train, t_val = train_test_split(x, t, test_size=0.1, random_state=1)"
   ]
  },
  {
   "cell_type": "code",
   "execution_count": 63,
   "metadata": {},
   "outputs": [],
   "source": [
    "## ダミー化する前の検証用説明変数と　0/1に変換した目的変数を連結します。\n",
    "x_t_val01 = pd.concat([x_val_raw,t_val01],axis=1)"
   ]
  },
  {
   "cell_type": "code",
   "execution_count": 64,
   "metadata": {},
   "outputs": [
    {
     "data": {
      "text/html": [
       "<div>\n",
       "<style scoped>\n",
       "    .dataframe tbody tr th:only-of-type {\n",
       "        vertical-align: middle;\n",
       "    }\n",
       "\n",
       "    .dataframe tbody tr th {\n",
       "        vertical-align: top;\n",
       "    }\n",
       "\n",
       "    .dataframe thead th {\n",
       "        text-align: right;\n",
       "    }\n",
       "</style>\n",
       "<table border=\"1\" class=\"dataframe\">\n",
       "  <thead>\n",
       "    <tr style=\"text-align: right;\">\n",
       "      <th></th>\n",
       "      <th>age</th>\n",
       "      <th>job</th>\n",
       "      <th>marital</th>\n",
       "      <th>education</th>\n",
       "      <th>default</th>\n",
       "      <th>housing</th>\n",
       "      <th>loan</th>\n",
       "      <th>contact</th>\n",
       "      <th>month</th>\n",
       "      <th>day_of_week</th>\n",
       "      <th>...</th>\n",
       "      <th>campaign</th>\n",
       "      <th>pdays</th>\n",
       "      <th>previous</th>\n",
       "      <th>poutcome</th>\n",
       "      <th>emp.var.rate</th>\n",
       "      <th>cons.price.idx</th>\n",
       "      <th>cons.conf.idx</th>\n",
       "      <th>euribor3m</th>\n",
       "      <th>nr.employed</th>\n",
       "      <th>y</th>\n",
       "    </tr>\n",
       "  </thead>\n",
       "  <tbody>\n",
       "    <tr>\n",
       "      <td>35577</td>\n",
       "      <td>32</td>\n",
       "      <td>blue-collar</td>\n",
       "      <td>married</td>\n",
       "      <td>basic.9y</td>\n",
       "      <td>unknown</td>\n",
       "      <td>yes</td>\n",
       "      <td>yes</td>\n",
       "      <td>cellular</td>\n",
       "      <td>may</td>\n",
       "      <td>mon</td>\n",
       "      <td>...</td>\n",
       "      <td>1</td>\n",
       "      <td>999</td>\n",
       "      <td>0</td>\n",
       "      <td>nonexistent</td>\n",
       "      <td>-1.8</td>\n",
       "      <td>92.893</td>\n",
       "      <td>-46.2</td>\n",
       "      <td>1.244</td>\n",
       "      <td>5099.1</td>\n",
       "      <td>0</td>\n",
       "    </tr>\n",
       "    <tr>\n",
       "      <td>13950</td>\n",
       "      <td>33</td>\n",
       "      <td>blue-collar</td>\n",
       "      <td>single</td>\n",
       "      <td>basic.6y</td>\n",
       "      <td>unknown</td>\n",
       "      <td>yes</td>\n",
       "      <td>yes</td>\n",
       "      <td>cellular</td>\n",
       "      <td>jul</td>\n",
       "      <td>fri</td>\n",
       "      <td>...</td>\n",
       "      <td>2</td>\n",
       "      <td>999</td>\n",
       "      <td>0</td>\n",
       "      <td>nonexistent</td>\n",
       "      <td>1.4</td>\n",
       "      <td>93.918</td>\n",
       "      <td>-42.7</td>\n",
       "      <td>4.963</td>\n",
       "      <td>5228.1</td>\n",
       "      <td>0</td>\n",
       "    </tr>\n",
       "    <tr>\n",
       "      <td>29451</td>\n",
       "      <td>25</td>\n",
       "      <td>self-employed</td>\n",
       "      <td>divorced</td>\n",
       "      <td>university.degree</td>\n",
       "      <td>no</td>\n",
       "      <td>yes</td>\n",
       "      <td>no</td>\n",
       "      <td>cellular</td>\n",
       "      <td>apr</td>\n",
       "      <td>mon</td>\n",
       "      <td>...</td>\n",
       "      <td>5</td>\n",
       "      <td>999</td>\n",
       "      <td>0</td>\n",
       "      <td>nonexistent</td>\n",
       "      <td>-1.8</td>\n",
       "      <td>93.075</td>\n",
       "      <td>-47.1</td>\n",
       "      <td>1.405</td>\n",
       "      <td>5099.1</td>\n",
       "      <td>1</td>\n",
       "    </tr>\n",
       "    <tr>\n",
       "      <td>32295</td>\n",
       "      <td>34</td>\n",
       "      <td>blue-collar</td>\n",
       "      <td>single</td>\n",
       "      <td>high.school</td>\n",
       "      <td>no</td>\n",
       "      <td>yes</td>\n",
       "      <td>no</td>\n",
       "      <td>cellular</td>\n",
       "      <td>may</td>\n",
       "      <td>fri</td>\n",
       "      <td>...</td>\n",
       "      <td>1</td>\n",
       "      <td>999</td>\n",
       "      <td>0</td>\n",
       "      <td>nonexistent</td>\n",
       "      <td>-1.8</td>\n",
       "      <td>92.893</td>\n",
       "      <td>-46.2</td>\n",
       "      <td>1.313</td>\n",
       "      <td>5099.1</td>\n",
       "      <td>0</td>\n",
       "    </tr>\n",
       "    <tr>\n",
       "      <td>27477</td>\n",
       "      <td>53</td>\n",
       "      <td>technician</td>\n",
       "      <td>married</td>\n",
       "      <td>professional.course</td>\n",
       "      <td>no</td>\n",
       "      <td>yes</td>\n",
       "      <td>no</td>\n",
       "      <td>cellular</td>\n",
       "      <td>nov</td>\n",
       "      <td>fri</td>\n",
       "      <td>...</td>\n",
       "      <td>7</td>\n",
       "      <td>999</td>\n",
       "      <td>0</td>\n",
       "      <td>nonexistent</td>\n",
       "      <td>-0.1</td>\n",
       "      <td>93.200</td>\n",
       "      <td>-42.0</td>\n",
       "      <td>4.021</td>\n",
       "      <td>5195.8</td>\n",
       "      <td>0</td>\n",
       "    </tr>\n",
       "  </tbody>\n",
       "</table>\n",
       "<p>5 rows × 21 columns</p>\n",
       "</div>"
      ],
      "text/plain": [
       "       age            job   marital            education  default housing  \\\n",
       "35577   32    blue-collar   married             basic.9y  unknown     yes   \n",
       "13950   33    blue-collar    single             basic.6y  unknown     yes   \n",
       "29451   25  self-employed  divorced    university.degree       no     yes   \n",
       "32295   34    blue-collar    single          high.school       no     yes   \n",
       "27477   53     technician   married  professional.course       no     yes   \n",
       "\n",
       "      loan   contact month day_of_week  ...  campaign  pdays  previous  \\\n",
       "35577  yes  cellular   may         mon  ...         1    999         0   \n",
       "13950  yes  cellular   jul         fri  ...         2    999         0   \n",
       "29451   no  cellular   apr         mon  ...         5    999         0   \n",
       "32295   no  cellular   may         fri  ...         1    999         0   \n",
       "27477   no  cellular   nov         fri  ...         7    999         0   \n",
       "\n",
       "          poutcome emp.var.rate  cons.price.idx  cons.conf.idx  euribor3m  \\\n",
       "35577  nonexistent         -1.8          92.893          -46.2      1.244   \n",
       "13950  nonexistent          1.4          93.918          -42.7      4.963   \n",
       "29451  nonexistent         -1.8          93.075          -47.1      1.405   \n",
       "32295  nonexistent         -1.8          92.893          -46.2      1.313   \n",
       "27477  nonexistent         -0.1          93.200          -42.0      4.021   \n",
       "\n",
       "       nr.employed  y  \n",
       "35577       5099.1  0  \n",
       "13950       5228.1  0  \n",
       "29451       5099.1  1  \n",
       "32295       5099.1  0  \n",
       "27477       5195.8  0  \n",
       "\n",
       "[5 rows x 21 columns]"
      ]
     },
     "execution_count": 64,
     "metadata": {},
     "output_type": "execute_result"
    }
   ],
   "source": [
    "x_t_val01.head()"
   ]
  },
  {
   "cell_type": "code",
   "execution_count": 65,
   "metadata": {},
   "outputs": [],
   "source": [
    "##INDEXをリセットします。 これをしないと予測結果と連結できません。\n",
    "x_t_val01 = x_t_val01.reset_index()"
   ]
  },
  {
   "cell_type": "code",
   "execution_count": 66,
   "metadata": {},
   "outputs": [],
   "source": [
    "## 検証データと予測結果を連結します。\n",
    "x_t_val01_p = pd.concat([x_t_val01,df_y_clf3,df_y_clf6,df_y_clf_best],axis=1)"
   ]
  },
  {
   "cell_type": "code",
   "execution_count": 67,
   "metadata": {},
   "outputs": [
    {
     "data": {
      "text/html": [
       "<div>\n",
       "<style scoped>\n",
       "    .dataframe tbody tr th:only-of-type {\n",
       "        vertical-align: middle;\n",
       "    }\n",
       "\n",
       "    .dataframe tbody tr th {\n",
       "        vertical-align: top;\n",
       "    }\n",
       "\n",
       "    .dataframe thead th {\n",
       "        text-align: right;\n",
       "    }\n",
       "</style>\n",
       "<table border=\"1\" class=\"dataframe\">\n",
       "  <thead>\n",
       "    <tr style=\"text-align: right;\">\n",
       "      <th></th>\n",
       "      <th>index</th>\n",
       "      <th>age</th>\n",
       "      <th>job</th>\n",
       "      <th>marital</th>\n",
       "      <th>education</th>\n",
       "      <th>default</th>\n",
       "      <th>housing</th>\n",
       "      <th>loan</th>\n",
       "      <th>contact</th>\n",
       "      <th>month</th>\n",
       "      <th>...</th>\n",
       "      <th>poutcome</th>\n",
       "      <th>emp.var.rate</th>\n",
       "      <th>cons.price.idx</th>\n",
       "      <th>cons.conf.idx</th>\n",
       "      <th>euribor3m</th>\n",
       "      <th>nr.employed</th>\n",
       "      <th>y</th>\n",
       "      <th>y_clf3</th>\n",
       "      <th>y_clf6</th>\n",
       "      <th>y_clf_best</th>\n",
       "    </tr>\n",
       "  </thead>\n",
       "  <tbody>\n",
       "    <tr>\n",
       "      <td>0</td>\n",
       "      <td>35577</td>\n",
       "      <td>32</td>\n",
       "      <td>blue-collar</td>\n",
       "      <td>married</td>\n",
       "      <td>basic.9y</td>\n",
       "      <td>unknown</td>\n",
       "      <td>yes</td>\n",
       "      <td>yes</td>\n",
       "      <td>cellular</td>\n",
       "      <td>may</td>\n",
       "      <td>...</td>\n",
       "      <td>nonexistent</td>\n",
       "      <td>-1.8</td>\n",
       "      <td>92.893</td>\n",
       "      <td>-46.2</td>\n",
       "      <td>1.244</td>\n",
       "      <td>5099.1</td>\n",
       "      <td>0</td>\n",
       "      <td>0.015390</td>\n",
       "      <td>0.010590</td>\n",
       "      <td>0.021487</td>\n",
       "    </tr>\n",
       "    <tr>\n",
       "      <td>1</td>\n",
       "      <td>13950</td>\n",
       "      <td>33</td>\n",
       "      <td>blue-collar</td>\n",
       "      <td>single</td>\n",
       "      <td>basic.6y</td>\n",
       "      <td>unknown</td>\n",
       "      <td>yes</td>\n",
       "      <td>yes</td>\n",
       "      <td>cellular</td>\n",
       "      <td>jul</td>\n",
       "      <td>...</td>\n",
       "      <td>nonexistent</td>\n",
       "      <td>1.4</td>\n",
       "      <td>93.918</td>\n",
       "      <td>-42.7</td>\n",
       "      <td>4.963</td>\n",
       "      <td>5228.1</td>\n",
       "      <td>0</td>\n",
       "      <td>0.015390</td>\n",
       "      <td>0.000931</td>\n",
       "      <td>0.002202</td>\n",
       "    </tr>\n",
       "    <tr>\n",
       "      <td>2</td>\n",
       "      <td>29451</td>\n",
       "      <td>25</td>\n",
       "      <td>self-employed</td>\n",
       "      <td>divorced</td>\n",
       "      <td>university.degree</td>\n",
       "      <td>no</td>\n",
       "      <td>yes</td>\n",
       "      <td>no</td>\n",
       "      <td>cellular</td>\n",
       "      <td>apr</td>\n",
       "      <td>...</td>\n",
       "      <td>nonexistent</td>\n",
       "      <td>-1.8</td>\n",
       "      <td>93.075</td>\n",
       "      <td>-47.1</td>\n",
       "      <td>1.405</td>\n",
       "      <td>5099.1</td>\n",
       "      <td>1</td>\n",
       "      <td>0.172806</td>\n",
       "      <td>0.322200</td>\n",
       "      <td>0.108820</td>\n",
       "    </tr>\n",
       "    <tr>\n",
       "      <td>3</td>\n",
       "      <td>32295</td>\n",
       "      <td>34</td>\n",
       "      <td>blue-collar</td>\n",
       "      <td>single</td>\n",
       "      <td>high.school</td>\n",
       "      <td>no</td>\n",
       "      <td>yes</td>\n",
       "      <td>no</td>\n",
       "      <td>cellular</td>\n",
       "      <td>may</td>\n",
       "      <td>...</td>\n",
       "      <td>nonexistent</td>\n",
       "      <td>-1.8</td>\n",
       "      <td>92.893</td>\n",
       "      <td>-46.2</td>\n",
       "      <td>1.313</td>\n",
       "      <td>5099.1</td>\n",
       "      <td>0</td>\n",
       "      <td>0.015390</td>\n",
       "      <td>0.010590</td>\n",
       "      <td>0.021487</td>\n",
       "    </tr>\n",
       "    <tr>\n",
       "      <td>4</td>\n",
       "      <td>27477</td>\n",
       "      <td>53</td>\n",
       "      <td>technician</td>\n",
       "      <td>married</td>\n",
       "      <td>professional.course</td>\n",
       "      <td>no</td>\n",
       "      <td>yes</td>\n",
       "      <td>no</td>\n",
       "      <td>cellular</td>\n",
       "      <td>nov</td>\n",
       "      <td>...</td>\n",
       "      <td>nonexistent</td>\n",
       "      <td>-0.1</td>\n",
       "      <td>93.200</td>\n",
       "      <td>-42.0</td>\n",
       "      <td>4.021</td>\n",
       "      <td>5195.8</td>\n",
       "      <td>0</td>\n",
       "      <td>0.015390</td>\n",
       "      <td>0.010590</td>\n",
       "      <td>0.021487</td>\n",
       "    </tr>\n",
       "    <tr>\n",
       "      <td>...</td>\n",
       "      <td>...</td>\n",
       "      <td>...</td>\n",
       "      <td>...</td>\n",
       "      <td>...</td>\n",
       "      <td>...</td>\n",
       "      <td>...</td>\n",
       "      <td>...</td>\n",
       "      <td>...</td>\n",
       "      <td>...</td>\n",
       "      <td>...</td>\n",
       "      <td>...</td>\n",
       "      <td>...</td>\n",
       "      <td>...</td>\n",
       "      <td>...</td>\n",
       "      <td>...</td>\n",
       "      <td>...</td>\n",
       "      <td>...</td>\n",
       "      <td>...</td>\n",
       "      <td>...</td>\n",
       "      <td>...</td>\n",
       "      <td>...</td>\n",
       "    </tr>\n",
       "    <tr>\n",
       "      <td>4114</td>\n",
       "      <td>38593</td>\n",
       "      <td>37</td>\n",
       "      <td>admin.</td>\n",
       "      <td>single</td>\n",
       "      <td>university.degree</td>\n",
       "      <td>no</td>\n",
       "      <td>yes</td>\n",
       "      <td>no</td>\n",
       "      <td>cellular</td>\n",
       "      <td>oct</td>\n",
       "      <td>...</td>\n",
       "      <td>nonexistent</td>\n",
       "      <td>-3.4</td>\n",
       "      <td>92.431</td>\n",
       "      <td>-26.9</td>\n",
       "      <td>0.720</td>\n",
       "      <td>5017.5</td>\n",
       "      <td>0</td>\n",
       "      <td>0.532331</td>\n",
       "      <td>0.416999</td>\n",
       "      <td>0.348592</td>\n",
       "    </tr>\n",
       "    <tr>\n",
       "      <td>4115</td>\n",
       "      <td>33924</td>\n",
       "      <td>28</td>\n",
       "      <td>admin.</td>\n",
       "      <td>married</td>\n",
       "      <td>high.school</td>\n",
       "      <td>no</td>\n",
       "      <td>yes</td>\n",
       "      <td>yes</td>\n",
       "      <td>cellular</td>\n",
       "      <td>may</td>\n",
       "      <td>...</td>\n",
       "      <td>failure</td>\n",
       "      <td>-1.8</td>\n",
       "      <td>92.893</td>\n",
       "      <td>-46.2</td>\n",
       "      <td>1.281</td>\n",
       "      <td>5099.1</td>\n",
       "      <td>0</td>\n",
       "      <td>0.015390</td>\n",
       "      <td>0.010590</td>\n",
       "      <td>0.021487</td>\n",
       "    </tr>\n",
       "    <tr>\n",
       "      <td>4116</td>\n",
       "      <td>23595</td>\n",
       "      <td>54</td>\n",
       "      <td>management</td>\n",
       "      <td>married</td>\n",
       "      <td>university.degree</td>\n",
       "      <td>no</td>\n",
       "      <td>yes</td>\n",
       "      <td>yes</td>\n",
       "      <td>cellular</td>\n",
       "      <td>aug</td>\n",
       "      <td>...</td>\n",
       "      <td>nonexistent</td>\n",
       "      <td>1.4</td>\n",
       "      <td>93.444</td>\n",
       "      <td>-36.1</td>\n",
       "      <td>4.962</td>\n",
       "      <td>5228.1</td>\n",
       "      <td>0</td>\n",
       "      <td>0.015390</td>\n",
       "      <td>0.000931</td>\n",
       "      <td>0.002202</td>\n",
       "    </tr>\n",
       "    <tr>\n",
       "      <td>4117</td>\n",
       "      <td>22711</td>\n",
       "      <td>58</td>\n",
       "      <td>services</td>\n",
       "      <td>married</td>\n",
       "      <td>high.school</td>\n",
       "      <td>no</td>\n",
       "      <td>no</td>\n",
       "      <td>no</td>\n",
       "      <td>cellular</td>\n",
       "      <td>aug</td>\n",
       "      <td>...</td>\n",
       "      <td>nonexistent</td>\n",
       "      <td>1.4</td>\n",
       "      <td>93.444</td>\n",
       "      <td>-36.1</td>\n",
       "      <td>4.964</td>\n",
       "      <td>5228.1</td>\n",
       "      <td>0</td>\n",
       "      <td>0.015390</td>\n",
       "      <td>0.000931</td>\n",
       "      <td>0.002202</td>\n",
       "    </tr>\n",
       "    <tr>\n",
       "      <td>4118</td>\n",
       "      <td>23414</td>\n",
       "      <td>47</td>\n",
       "      <td>technician</td>\n",
       "      <td>married</td>\n",
       "      <td>university.degree</td>\n",
       "      <td>no</td>\n",
       "      <td>no</td>\n",
       "      <td>no</td>\n",
       "      <td>cellular</td>\n",
       "      <td>aug</td>\n",
       "      <td>...</td>\n",
       "      <td>nonexistent</td>\n",
       "      <td>1.4</td>\n",
       "      <td>93.444</td>\n",
       "      <td>-36.1</td>\n",
       "      <td>4.964</td>\n",
       "      <td>5228.1</td>\n",
       "      <td>1</td>\n",
       "      <td>0.569145</td>\n",
       "      <td>0.529762</td>\n",
       "      <td>0.627907</td>\n",
       "    </tr>\n",
       "  </tbody>\n",
       "</table>\n",
       "<p>4119 rows × 25 columns</p>\n",
       "</div>"
      ],
      "text/plain": [
       "      index  age            job   marital            education  default  \\\n",
       "0     35577   32    blue-collar   married             basic.9y  unknown   \n",
       "1     13950   33    blue-collar    single             basic.6y  unknown   \n",
       "2     29451   25  self-employed  divorced    university.degree       no   \n",
       "3     32295   34    blue-collar    single          high.school       no   \n",
       "4     27477   53     technician   married  professional.course       no   \n",
       "...     ...  ...            ...       ...                  ...      ...   \n",
       "4114  38593   37         admin.    single    university.degree       no   \n",
       "4115  33924   28         admin.   married          high.school       no   \n",
       "4116  23595   54     management   married    university.degree       no   \n",
       "4117  22711   58       services   married          high.school       no   \n",
       "4118  23414   47     technician   married    university.degree       no   \n",
       "\n",
       "     housing loan   contact month  ...     poutcome  emp.var.rate  \\\n",
       "0        yes  yes  cellular   may  ...  nonexistent          -1.8   \n",
       "1        yes  yes  cellular   jul  ...  nonexistent           1.4   \n",
       "2        yes   no  cellular   apr  ...  nonexistent          -1.8   \n",
       "3        yes   no  cellular   may  ...  nonexistent          -1.8   \n",
       "4        yes   no  cellular   nov  ...  nonexistent          -0.1   \n",
       "...      ...  ...       ...   ...  ...          ...           ...   \n",
       "4114     yes   no  cellular   oct  ...  nonexistent          -3.4   \n",
       "4115     yes  yes  cellular   may  ...      failure          -1.8   \n",
       "4116     yes  yes  cellular   aug  ...  nonexistent           1.4   \n",
       "4117      no   no  cellular   aug  ...  nonexistent           1.4   \n",
       "4118      no   no  cellular   aug  ...  nonexistent           1.4   \n",
       "\n",
       "      cons.price.idx  cons.conf.idx  euribor3m nr.employed  y    y_clf3  \\\n",
       "0             92.893          -46.2      1.244      5099.1  0  0.015390   \n",
       "1             93.918          -42.7      4.963      5228.1  0  0.015390   \n",
       "2             93.075          -47.1      1.405      5099.1  1  0.172806   \n",
       "3             92.893          -46.2      1.313      5099.1  0  0.015390   \n",
       "4             93.200          -42.0      4.021      5195.8  0  0.015390   \n",
       "...              ...            ...        ...         ... ..       ...   \n",
       "4114          92.431          -26.9      0.720      5017.5  0  0.532331   \n",
       "4115          92.893          -46.2      1.281      5099.1  0  0.015390   \n",
       "4116          93.444          -36.1      4.962      5228.1  0  0.015390   \n",
       "4117          93.444          -36.1      4.964      5228.1  0  0.015390   \n",
       "4118          93.444          -36.1      4.964      5228.1  1  0.569145   \n",
       "\n",
       "        y_clf6  y_clf_best  \n",
       "0     0.010590    0.021487  \n",
       "1     0.000931    0.002202  \n",
       "2     0.322200    0.108820  \n",
       "3     0.010590    0.021487  \n",
       "4     0.010590    0.021487  \n",
       "...        ...         ...  \n",
       "4114  0.416999    0.348592  \n",
       "4115  0.010590    0.021487  \n",
       "4116  0.000931    0.002202  \n",
       "4117  0.000931    0.002202  \n",
       "4118  0.529762    0.627907  \n",
       "\n",
       "[4119 rows x 25 columns]"
      ]
     },
     "execution_count": 67,
     "metadata": {},
     "output_type": "execute_result"
    }
   ],
   "source": [
    "x_t_val01_p"
   ]
  },
  {
   "cell_type": "markdown",
   "metadata": {},
   "source": [
    "Tableau から接続するために、csvファイルに吐き出します。"
   ]
  },
  {
   "cell_type": "code",
   "execution_count": 68,
   "metadata": {},
   "outputs": [],
   "source": [
    "## Tableau で分析するためにCSVに書き出す\n",
    "x_t_val01_p.to_csv(\"x_t_val01_p_clf3_6_best.csv\")"
   ]
  },
  {
   "cell_type": "markdown",
   "metadata": {},
   "source": [
    "### ここから先はTableau Desktopで確認します。"
   ]
  },
  {
   "cell_type": "code",
   "execution_count": 69,
   "metadata": {},
   "outputs": [
    {
     "data": {
      "text/html": [
       "<div class='tableauPlaceholder' id='viz1580558160059' style='position: relative'><noscript><a href='#'><img alt=' ' src='https:&#47;&#47;public.tableau.com&#47;static&#47;images&#47;NJ&#47;NJ9334THC&#47;1_rss.png' style='border: none' /></a></noscript><object class='tableauViz'  style='display:none;'><param name='host_url' value='https%3A%2F%2Fpublic.tableau.com%2F' /> <param name='embed_code_version' value='3' /> <param name='path' value='shared&#47;NJ9334THC' /> <param name='toolbar' value='yes' /><param name='static_image' value='https:&#47;&#47;public.tableau.com&#47;static&#47;images&#47;NJ&#47;NJ9334THC&#47;1.png' /> <param name='animate_transition' value='yes' /><param name='display_static_image' value='yes' /><param name='display_spinner' value='yes' /><param name='display_overlay' value='yes' /><param name='display_count' value='yes' /><param name='filter' value='publish=yes' /></object></div>                <script type='text/javascript'>                    var divElement = document.getElementById('viz1580558160059');                    var vizElement = divElement.getElementsByTagName('object')[0];                    vizElement.style.width='100%';vizElement.style.height=(divElement.offsetWidth*0.4)+'px';                    var scriptElement = document.createElement('script');                    scriptElement.src = 'https://public.tableau.com/javascripts/api/viz_v1.js';                    vizElement.parentNode.insertBefore(scriptElement, vizElement);                </script>\n"
      ],
      "text/plain": [
       "<IPython.core.display.HTML object>"
      ]
     },
     "metadata": {},
     "output_type": "display_data"
    }
   ],
   "source": [
    "%%HTML\n",
    "<div class='tableauPlaceholder' id='viz1580558160059' style='position: relative'><noscript><a href='#'><img alt=' ' src='https:&#47;&#47;public.tableau.com&#47;static&#47;images&#47;NJ&#47;NJ9334THC&#47;1_rss.png' style='border: none' /></a></noscript><object class='tableauViz'  style='display:none;'><param name='host_url' value='https%3A%2F%2Fpublic.tableau.com%2F' /> <param name='embed_code_version' value='3' /> <param name='path' value='shared&#47;NJ9334THC' /> <param name='toolbar' value='yes' /><param name='static_image' value='https:&#47;&#47;public.tableau.com&#47;static&#47;images&#47;NJ&#47;NJ9334THC&#47;1.png' /> <param name='animate_transition' value='yes' /><param name='display_static_image' value='yes' /><param name='display_spinner' value='yes' /><param name='display_overlay' value='yes' /><param name='display_count' value='yes' /><param name='filter' value='publish=yes' /></object></div>                <script type='text/javascript'>                    var divElement = document.getElementById('viz1580558160059');                    var vizElement = divElement.getElementsByTagName('object')[0];                    vizElement.style.width='100%';vizElement.style.height=(divElement.offsetWidth*0.4)+'px';                    var scriptElement = document.createElement('script');                    scriptElement.src = 'https://public.tableau.com/javascripts/api/viz_v1.js';                    vizElement.parentNode.insertBefore(scriptElement, vizElement);                </script>"
   ]
  },
  {
   "cell_type": "markdown",
   "metadata": {},
   "source": [
    "### (補足）PythonでROC曲線を描画してみましょう。\n",
    "\n",
    "機械学習の分類問題などの評価指標としてROC-AUCが使われることがあります。\n",
    "ROCはReceiver operating characteristic（受信者操作特性）、AUCはArea under the curveの略で、Area under an ROC curve（ROC曲線下の面積）をROC-AUCなどと呼びます。\n",
    "\n",
    "参考：\n",
    "https://note.nkmk.me/python-sklearn-roc-curve-auc-score/\n",
    "\n",
    "\n",
    "ROC曲線は左上に膨れるほどうまく分類できているということになります。\n",
    "AUCはROC曲線の右下側の面積で、「うまく分類で来ているか？」を数値化した指標となります。\n"
   ]
  },
  {
   "cell_type": "code",
   "execution_count": 70,
   "metadata": {},
   "outputs": [
    {
     "data": {
      "text/html": [
       "<div>\n",
       "<style scoped>\n",
       "    .dataframe tbody tr th:only-of-type {\n",
       "        vertical-align: middle;\n",
       "    }\n",
       "\n",
       "    .dataframe tbody tr th {\n",
       "        vertical-align: top;\n",
       "    }\n",
       "\n",
       "    .dataframe thead th {\n",
       "        text-align: right;\n",
       "    }\n",
       "</style>\n",
       "<table border=\"1\" class=\"dataframe\">\n",
       "  <thead>\n",
       "    <tr style=\"text-align: right;\">\n",
       "      <th></th>\n",
       "      <th>index</th>\n",
       "      <th>age</th>\n",
       "      <th>job</th>\n",
       "      <th>marital</th>\n",
       "      <th>education</th>\n",
       "      <th>default</th>\n",
       "      <th>housing</th>\n",
       "      <th>loan</th>\n",
       "      <th>contact</th>\n",
       "      <th>month</th>\n",
       "      <th>...</th>\n",
       "      <th>poutcome</th>\n",
       "      <th>emp.var.rate</th>\n",
       "      <th>cons.price.idx</th>\n",
       "      <th>cons.conf.idx</th>\n",
       "      <th>euribor3m</th>\n",
       "      <th>nr.employed</th>\n",
       "      <th>y</th>\n",
       "      <th>y_clf3</th>\n",
       "      <th>y_clf6</th>\n",
       "      <th>y_clf_best</th>\n",
       "    </tr>\n",
       "  </thead>\n",
       "  <tbody>\n",
       "    <tr>\n",
       "      <td>0</td>\n",
       "      <td>35577</td>\n",
       "      <td>32</td>\n",
       "      <td>blue-collar</td>\n",
       "      <td>married</td>\n",
       "      <td>basic.9y</td>\n",
       "      <td>unknown</td>\n",
       "      <td>yes</td>\n",
       "      <td>yes</td>\n",
       "      <td>cellular</td>\n",
       "      <td>may</td>\n",
       "      <td>...</td>\n",
       "      <td>nonexistent</td>\n",
       "      <td>-1.8</td>\n",
       "      <td>92.893</td>\n",
       "      <td>-46.2</td>\n",
       "      <td>1.244</td>\n",
       "      <td>5099.1</td>\n",
       "      <td>0</td>\n",
       "      <td>0.015390</td>\n",
       "      <td>0.010590</td>\n",
       "      <td>0.021487</td>\n",
       "    </tr>\n",
       "    <tr>\n",
       "      <td>1</td>\n",
       "      <td>13950</td>\n",
       "      <td>33</td>\n",
       "      <td>blue-collar</td>\n",
       "      <td>single</td>\n",
       "      <td>basic.6y</td>\n",
       "      <td>unknown</td>\n",
       "      <td>yes</td>\n",
       "      <td>yes</td>\n",
       "      <td>cellular</td>\n",
       "      <td>jul</td>\n",
       "      <td>...</td>\n",
       "      <td>nonexistent</td>\n",
       "      <td>1.4</td>\n",
       "      <td>93.918</td>\n",
       "      <td>-42.7</td>\n",
       "      <td>4.963</td>\n",
       "      <td>5228.1</td>\n",
       "      <td>0</td>\n",
       "      <td>0.015390</td>\n",
       "      <td>0.000931</td>\n",
       "      <td>0.002202</td>\n",
       "    </tr>\n",
       "    <tr>\n",
       "      <td>2</td>\n",
       "      <td>29451</td>\n",
       "      <td>25</td>\n",
       "      <td>self-employed</td>\n",
       "      <td>divorced</td>\n",
       "      <td>university.degree</td>\n",
       "      <td>no</td>\n",
       "      <td>yes</td>\n",
       "      <td>no</td>\n",
       "      <td>cellular</td>\n",
       "      <td>apr</td>\n",
       "      <td>...</td>\n",
       "      <td>nonexistent</td>\n",
       "      <td>-1.8</td>\n",
       "      <td>93.075</td>\n",
       "      <td>-47.1</td>\n",
       "      <td>1.405</td>\n",
       "      <td>5099.1</td>\n",
       "      <td>1</td>\n",
       "      <td>0.172806</td>\n",
       "      <td>0.322200</td>\n",
       "      <td>0.108820</td>\n",
       "    </tr>\n",
       "    <tr>\n",
       "      <td>3</td>\n",
       "      <td>32295</td>\n",
       "      <td>34</td>\n",
       "      <td>blue-collar</td>\n",
       "      <td>single</td>\n",
       "      <td>high.school</td>\n",
       "      <td>no</td>\n",
       "      <td>yes</td>\n",
       "      <td>no</td>\n",
       "      <td>cellular</td>\n",
       "      <td>may</td>\n",
       "      <td>...</td>\n",
       "      <td>nonexistent</td>\n",
       "      <td>-1.8</td>\n",
       "      <td>92.893</td>\n",
       "      <td>-46.2</td>\n",
       "      <td>1.313</td>\n",
       "      <td>5099.1</td>\n",
       "      <td>0</td>\n",
       "      <td>0.015390</td>\n",
       "      <td>0.010590</td>\n",
       "      <td>0.021487</td>\n",
       "    </tr>\n",
       "    <tr>\n",
       "      <td>4</td>\n",
       "      <td>27477</td>\n",
       "      <td>53</td>\n",
       "      <td>technician</td>\n",
       "      <td>married</td>\n",
       "      <td>professional.course</td>\n",
       "      <td>no</td>\n",
       "      <td>yes</td>\n",
       "      <td>no</td>\n",
       "      <td>cellular</td>\n",
       "      <td>nov</td>\n",
       "      <td>...</td>\n",
       "      <td>nonexistent</td>\n",
       "      <td>-0.1</td>\n",
       "      <td>93.200</td>\n",
       "      <td>-42.0</td>\n",
       "      <td>4.021</td>\n",
       "      <td>5195.8</td>\n",
       "      <td>0</td>\n",
       "      <td>0.015390</td>\n",
       "      <td>0.010590</td>\n",
       "      <td>0.021487</td>\n",
       "    </tr>\n",
       "  </tbody>\n",
       "</table>\n",
       "<p>5 rows × 25 columns</p>\n",
       "</div>"
      ],
      "text/plain": [
       "   index  age            job   marital            education  default housing  \\\n",
       "0  35577   32    blue-collar   married             basic.9y  unknown     yes   \n",
       "1  13950   33    blue-collar    single             basic.6y  unknown     yes   \n",
       "2  29451   25  self-employed  divorced    university.degree       no     yes   \n",
       "3  32295   34    blue-collar    single          high.school       no     yes   \n",
       "4  27477   53     technician   married  professional.course       no     yes   \n",
       "\n",
       "  loan   contact month  ...     poutcome  emp.var.rate  cons.price.idx  \\\n",
       "0  yes  cellular   may  ...  nonexistent          -1.8          92.893   \n",
       "1  yes  cellular   jul  ...  nonexistent           1.4          93.918   \n",
       "2   no  cellular   apr  ...  nonexistent          -1.8          93.075   \n",
       "3   no  cellular   may  ...  nonexistent          -1.8          92.893   \n",
       "4   no  cellular   nov  ...  nonexistent          -0.1          93.200   \n",
       "\n",
       "   cons.conf.idx  euribor3m nr.employed  y    y_clf3    y_clf6  y_clf_best  \n",
       "0          -46.2      1.244      5099.1  0  0.015390  0.010590    0.021487  \n",
       "1          -42.7      4.963      5228.1  0  0.015390  0.000931    0.002202  \n",
       "2          -47.1      1.405      5099.1  1  0.172806  0.322200    0.108820  \n",
       "3          -46.2      1.313      5099.1  0  0.015390  0.010590    0.021487  \n",
       "4          -42.0      4.021      5195.8  0  0.015390  0.010590    0.021487  \n",
       "\n",
       "[5 rows x 25 columns]"
      ]
     },
     "execution_count": 70,
     "metadata": {},
     "output_type": "execute_result"
    }
   ],
   "source": [
    "x_t_val01_p.head()"
   ]
  },
  {
   "cell_type": "code",
   "execution_count": 72,
   "metadata": {},
   "outputs": [],
   "source": [
    "y = x_t_val01['y']"
   ]
  },
  {
   "cell_type": "code",
   "execution_count": 73,
   "metadata": {},
   "outputs": [
    {
     "data": {
      "image/png": "[encoded data removed]",
      "text/plain": [
       "<Figure size 432x288 with 1 Axes>"
      ]
     },
     "metadata": {
      "needs_background": "light"
     },
     "output_type": "display_data"
    }
   ],
   "source": [
    "from sklearn import metrics\n",
    "import matplotlib.pyplot as plt\n",
    "import numpy as np\n",
    "\n",
    "\n",
    "## FPR, TPR(, しきい値) を算出\n",
    "fpr_clf3, tpr_clf3, thresholds_clf3 = metrics.roc_curve(y, y_clf3)\n",
    "fpr_clf6, tpr_clf6, thresholds_clf6 = metrics.roc_curve(y, y_clf6)\n",
    "fpr_clf_best, tpr_clf_best, thresholds_clf_best = metrics.roc_curve(y, y_clf_best)\n",
    "\n",
    "## ついでにAUCも\n",
    "auc_clf3 = metrics.auc(fpr_clf3, tpr_clf3)\n",
    "auc_clf6 = metrics.auc(fpr_clf6, tpr_clf6)\n",
    "auc_clf_best = metrics.auc(fpr_clf_best, tpr_clf_best)\n",
    "\n",
    "## ROC曲線をプロット\n",
    "plt.plot(fpr_clf3, tpr_clf3, label='ROC curve clf3  (area = %.4f)'%auc_clf3)\n",
    "plt.plot(fpr_clf6, tpr_clf6, label='ROC curve clf6 (area = %.4f)'%auc_clf6)\n",
    "plt.plot(fpr_clf_best, tpr_clf_best, label='ROC curve clf_best (area = %.4f)'%auc_clf_best)\n",
    "plt.legend()\n",
    "plt.title('ROC curve')\n",
    "plt.xlabel('False Positive Rate')\n",
    "plt.ylabel('True Positive Rate')\n",
    "plt.grid(True)\n"
   ]
  },
  {
   "cell_type": "markdown",
   "metadata": {},
   "source": [
    "## 4.未知のデータに対する予測を実施する\n"
   ]
  },
  {
   "cell_type": "markdown",
   "metadata": {},
   "source": [
    "作成されたモデルを使って、結果の分からない全く新しいデータに対して予測を実施してみましょう。\n",
    "\n",
    "ここではあらかじめ用意された、630件の定期預金を申し込んだかどうかの分からない顧客のデータ\"sample.csv”を読み込みます。右端に”ｙ”の列がないことがポイントです。sampleという名前のデータフレームに投入します。\n"
   ]
  },
  {
   "cell_type": "code",
   "execution_count": 29,
   "metadata": {},
   "outputs": [],
   "source": [
    "#sample  =  pd.read_csv(\"sample.csv\")"
   ]
  },
  {
   "cell_type": "code",
   "execution_count": 30,
   "metadata": {},
   "outputs": [],
   "source": [
    "#sample.head()"
   ]
  },
  {
   "cell_type": "markdown",
   "metadata": {},
   "source": [
    "idは予測モデルを作成するための入力変数として必要がないため削除して、その他の入力変数について、カテゴリカルな変数をダミー変数化します。"
   ]
  },
  {
   "cell_type": "code",
   "execution_count": 31,
   "metadata": {},
   "outputs": [],
   "source": [
    "## id を削除する\n",
    "#sample1 = sample.iloc[:,1:]"
   ]
  },
  {
   "cell_type": "markdown",
   "metadata": {},
   "source": [
    "新しいデータに対してダミー変数化を行います。"
   ]
  },
  {
   "cell_type": "code",
   "execution_count": 32,
   "metadata": {},
   "outputs": [],
   "source": [
    "## 新しいデータに対してダミー変数化を行います。\n",
    "#x = pd.get_dummies(sample1)"
   ]
  },
  {
   "cell_type": "code",
   "execution_count": 33,
   "metadata": {},
   "outputs": [],
   "source": [
    "#x.head()"
   ]
  },
  {
   "cell_type": "markdown",
   "metadata": {},
   "source": [
    "作成したモデルを使って予測値を取得します。グリッドサーチの結果、最適なモデルは clf_best というモデルで保存しています。prodect_proba で予測値を算出します。列＝１の方が「定期預金を契約する＝ｙ」の確率です。"
   ]
  },
  {
   "cell_type": "code",
   "execution_count": 34,
   "metadata": {},
   "outputs": [],
   "source": [
    "## 列＝１の方が「定期預金を契約する＝ｙ」の確率です。\n",
    "#clf_best.predict_proba(x)"
   ]
  },
  {
   "cell_type": "markdown",
   "metadata": {},
   "source": [
    "「定期預金を契約する＝ｙ」の確率を y_new に代入します。"
   ]
  },
  {
   "cell_type": "code",
   "execution_count": 35,
   "metadata": {},
   "outputs": [],
   "source": [
    "## 作成したモデルを利用してsample に対して予測値を取得します。\n",
    "#y_new = clf_best.predict_proba(x)[:,1]\n"
   ]
  },
  {
   "cell_type": "markdown",
   "metadata": {},
   "source": [
    "「定期預金を契約する＝ｙ」の確率でをデータフレームにし、列名として\"predict\"を付けます。"
   ]
  },
  {
   "cell_type": "code",
   "execution_count": 36,
   "metadata": {},
   "outputs": [],
   "source": [
    "## 予測値をデータフレーム化します。\n",
    "#df_y_new = pd.DataFrame(y_new,  columns=['predict'])\n"
   ]
  },
  {
   "cell_type": "markdown",
   "metadata": {},
   "source": [
    "一番初めに読み込んだsampleの右端に予測値を追加します。"
   ]
  },
  {
   "cell_type": "code",
   "execution_count": 37,
   "metadata": {},
   "outputs": [],
   "source": [
    "## オリジナルのデータの右端に予測値を追加します。\n",
    "#sample_y_new = pd.concat([sample,df_y_new],axis=1)"
   ]
  },
  {
   "cell_type": "markdown",
   "metadata": {},
   "source": [
    "中身を確認します。"
   ]
  },
  {
   "cell_type": "code",
   "execution_count": 38,
   "metadata": {},
   "outputs": [],
   "source": [
    "#sample_y_new.head()"
   ]
  },
  {
   "cell_type": "markdown",
   "metadata": {},
   "source": [
    "Tableau で予測値を利用した分析とダッシュボード作成を行うために、CSVファイルとして吐き出します。"
   ]
  },
  {
   "cell_type": "code",
   "execution_count": 85,
   "metadata": {},
   "outputs": [],
   "source": [
    "## CSVファイルとして書き出します。\n",
    "sample_y_new.to_csv(\"sample_y_new.csv\")"
   ]
  },
  {
   "cell_type": "markdown",
   "metadata": {},
   "source": [
    "### ここから先はTableau Desktopで確認します。"
   ]
  },
  {
   "cell_type": "code",
   "execution_count": 89,
   "metadata": {
    "scrolled": true
   },
   "outputs": [
    {
     "data": {
      "text/html": [
       "<div class='tableauPlaceholder' id='viz1580557814844' style='position: relative'><noscript><a href='#'><img alt=' ' src='https:&#47;&#47;public.tableau.com&#47;static&#47;images&#47;W3&#47;W359FJNH6&#47;1_rss.png' style='border: none' /></a></noscript><object class='tableauViz'  style='display:none;'><param name='host_url' value='https%3A%2F%2Fpublic.tableau.com%2F' /> <param name='embed_code_version' value='3' /> <param name='path' value='shared&#47;W359FJNH6' /> <param name='toolbar' value='yes' /><param name='static_image' value='https:&#47;&#47;public.tableau.com&#47;static&#47;images&#47;W3&#47;W359FJNH6&#47;1.png' /> <param name='animate_transition' value='yes' /><param name='display_static_image' value='yes' /><param name='display_spinner' value='yes' /><param name='display_overlay' value='yes' /><param name='display_count' value='yes' /><param name='filter' value='publish=yes' /></object></div>                <script type='text/javascript'>                    var divElement = document.getElementById('viz1580557814844');                    var vizElement = divElement.getElementsByTagName('object')[0];                    if ( divElement.offsetWidth > 800 ) { vizElement.style.width='100%';vizElement.style.height=(divElement.offsetWidth*0.85)+'px';} else if ( divElement.offsetWidth > 500 ) { vizElement.style.width='100%';vizElement.style.height=(divElement.offsetWidth*0.95)+'px';} else { vizElement.style.width='100%';vizElement.style.minHeight='1150px';vizElement.style.maxHeight=(divElement.offsetWidth*1.77)+'px';}                     var scriptElement = document.createElement('script');                    scriptElement.src = 'https://public.tableau.com/javascripts/api/viz_v1.js';                    vizElement.parentNode.insertBefore(scriptElement, vizElement);                </script>\n"
      ],
      "text/plain": [
       "<IPython.core.display.HTML object>"
      ]
     },
     "metadata": {},
     "output_type": "display_data"
    }
   ],
   "source": [
    "%%HTML\n",
    "<div class='tableauPlaceholder' id='viz1580557814844' style='position: relative'><noscript><a href='#'><img alt=' ' src='https:&#47;&#47;public.tableau.com&#47;static&#47;images&#47;W3&#47;W359FJNH6&#47;1_rss.png' style='border: none' /></a></noscript><object class='tableauViz'  style='display:none;'><param name='host_url' value='https%3A%2F%2Fpublic.tableau.com%2F' /> <param name='embed_code_version' value='3' /> <param name='path' value='shared&#47;W359FJNH6' /> <param name='toolbar' value='yes' /><param name='static_image' value='https:&#47;&#47;public.tableau.com&#47;static&#47;images&#47;W3&#47;W359FJNH6&#47;1.png' /> <param name='animate_transition' value='yes' /><param name='display_static_image' value='yes' /><param name='display_spinner' value='yes' /><param name='display_overlay' value='yes' /><param name='display_count' value='yes' /><param name='filter' value='publish=yes' /></object></div>                <script type='text/javascript'>                    var divElement = document.getElementById('viz1580557814844');                    var vizElement = divElement.getElementsByTagName('object')[0];                    if ( divElement.offsetWidth > 800 ) { vizElement.style.width='100%';vizElement.style.height=(divElement.offsetWidth*0.85)+'px';} else if ( divElement.offsetWidth > 500 ) { vizElement.style.width='100%';vizElement.style.height=(divElement.offsetWidth*0.95)+'px';} else { vizElement.style.width='100%';vizElement.style.minHeight='1150px';vizElement.style.maxHeight=(divElement.offsetWidth*1.77)+'px';}                     var scriptElement = document.createElement('script');                    scriptElement.src = 'https://public.tableau.com/javascripts/api/viz_v1.js';                    vizElement.parentNode.insertBefore(scriptElement, vizElement);                </script>"
   ]
  },
  {
   "cell_type": "code",
   "execution_count": null,
   "metadata": {},
   "outputs": [],
   "source": []
  },
  {
   "cell_type": "markdown",
   "metadata": {},
   "source": [
    "### 参考資料"
   ]
  },
  {
   "cell_type": "markdown",
   "metadata": {},
   "source": [
    "### 混合行列とは\n",
    "予測値が閾値以上のものをY（正例）、以下のものを（負例）と判定したときに、実際にそれがあっている場合とあっていない場合があります。\n",
    "\n",
    "![混合行列](./images/混合行列.png)"
   ]
  },
  {
   "cell_type": "markdown",
   "metadata": {},
   "source": [
    "何を重要視するかで評価指標が異なります。\n",
    "![混合行列の考え方](./images/accuracy.png)"
   ]
  },
  {
   "cell_type": "markdown",
   "metadata": {},
   "source": [
    "![recall](./images/recall.png)"
   ]
  },
  {
   "cell_type": "markdown",
   "metadata": {},
   "source": [
    "![Precision](./images/Precision.png)"
   ]
  },
  {
   "cell_type": "markdown",
   "metadata": {},
   "source": [
    "※　F1値　も評価として利用されます\n",
    "![F1](./images/f1.png)"
   ]
  },
  {
   "cell_type": "markdown",
   "metadata": {},
   "source": [
    "**ROC曲線とは**\n",
    "推定確立がρ以上のものを陽性とみなすとき、縦軸：真陽性率（TP/(TP+FN))、横軸：偽陽性率　(FP/(FP+TN)に対応する点を。推定確立ρに対してプロットしてつなげた折れ線グラフです・・・・・　（うーん、なんのこっちゃ）\n",
    "\n",
    "\n",
    "![ROC](./images/ROC曲線.png)"
   ]
  },
  {
   "cell_type": "markdown",
   "metadata": {},
   "source": [
    "**つまりこういうこと**\n",
    "\n",
    "①　予測値が高い順からとりあえず並べる　\n",
    "    →　本当にあってるものと、間違っちゃったFP（なんちゃってポジティブ）がある。\n",
    "    \n",
    "②　本当にあってれば、縦方向に上に進む（真陽性率上がる）間違えれば横に進む（偽陽性率上がる）\n",
    "\n",
    "③　次に確率の低い点について確認、②を繰り返す\n",
    "\n",
    "④　間違いなく、早く言い当てることができれば、上方向に進む、横方向には進まない。（→　これがいいモデル）\n",
    "\n",
    "![ROC曲線の解釈](./images/ROC曲線の解釈.png)"
   ]
  },
  {
   "cell_type": "markdown",
   "metadata": {},
   "source": [
    "※　正解から予測値がどれだけ離れいてるかの差を総和して評価する指標　logloss も指標として利用される場合があります。"
   ]
  },
  {
   "cell_type": "markdown",
   "metadata": {},
   "source": [
    "機械学習でLog Lossとは何か\n",
    "https://qiita.com/exp/items/1c6c9a3fae2d97bfa0c7\n",
    "一言でいうと、クロスエントロピー。0~1の予測値を入力してモデルの性能を測る指標を出力する。\n",
    "\n",
    "Accuracyとの違い\n",
    "→　Accuracyは予測した値と正解が一致していた数のカウント。正解/不正解しかないのでいつも良い指標とは限らない（惜しかった、などが測れない）\n",
    "→　Log Lossは実際のラベルからどのくらい違っていたのかを考慮できる\n"
   ]
  },
  {
   "cell_type": "markdown",
   "metadata": {},
   "source": [
    "Kaggleで勝つデータ分析の技術より\n",
    "![loggloss](./images/logloss.png)"
   ]
  },
  {
   "cell_type": "markdown",
   "metadata": {},
   "source": [
    "### おまけ　Logistic回帰でやってみましょう。"
   ]
  },
  {
   "cell_type": "code",
   "execution_count": 92,
   "metadata": {},
   "outputs": [],
   "source": [
    "#import\n",
    "from sklearn.linear_model import LogisticRegression\n"
   ]
  },
  {
   "cell_type": "code",
   "execution_count": 93,
   "metadata": {},
   "outputs": [
    {
     "name": "stderr",
     "output_type": "stream",
     "text": [
      "C:\\ProgramData\\Anaconda3\\lib\\site-packages\\sklearn\\linear_model\\logistic.py:432: FutureWarning: Default solver will be changed to 'lbfgs' in 0.22. Specify a solver to silence this warning.\n",
      "  FutureWarning)\n"
     ]
    },
    {
     "data": {
      "text/plain": [
       "LogisticRegression(C=1.0, class_weight=None, dual=False, fit_intercept=True,\n",
       "                   intercept_scaling=1, l1_ratio=None, max_iter=100,\n",
       "                   multi_class='warn', n_jobs=None, penalty='l2',\n",
       "                   random_state=None, solver='warn', tol=0.0001, verbose=0,\n",
       "                   warm_start=False)"
      ]
     },
     "execution_count": 93,
     "metadata": {},
     "output_type": "execute_result"
    }
   ],
   "source": [
    "#モデルの定義\n",
    "\n",
    "model = LogisticRegression()\n",
    "model.fit(x_train , t_train)"
   ]
  },
  {
   "cell_type": "code",
   "execution_count": 94,
   "metadata": {},
   "outputs": [
    {
     "data": {
      "text/plain": [
       "0.9098977582346435"
      ]
     },
     "execution_count": 94,
     "metadata": {},
     "output_type": "execute_result"
    }
   ],
   "source": [
    "model.score(x_train, t_train)  # Accuracy: 精度 = 何個中何個当たっていたか？"
   ]
  },
  {
   "cell_type": "code",
   "execution_count": 95,
   "metadata": {},
   "outputs": [
    {
     "data": {
      "text/plain": [
       "0.9058023792182569"
      ]
     },
     "execution_count": 95,
     "metadata": {},
     "output_type": "execute_result"
    }
   ],
   "source": [
    "model.score(x_val, t_val)  # Accuracy: 精度 = 何個中何個当たっていたか？"
   ]
  },
  {
   "cell_type": "code",
   "execution_count": null,
   "metadata": {},
   "outputs": [],
   "source": []
  }
 ],
 "metadata": {
  "kernelspec": {
   "display_name": "Python 3",
   "language": "python",
   "name": "python3"
  },
  "language_info": {
   "codemirror_mode": {
    "name": "ipython",
    "version": 3
   },
   "file_extension": ".py",
   "mimetype": "text/x-python",
   "name": "python",
   "nbconvert_exporter": "python",
   "pygments_lexer": "ipython3",
   "version": "3.7.4"
  }
 },
 "nbformat": 4,
 "nbformat_minor": 2
}
